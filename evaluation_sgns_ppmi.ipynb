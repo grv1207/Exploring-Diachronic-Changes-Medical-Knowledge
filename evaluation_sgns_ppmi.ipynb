{
 "cells": [
  {
   "cell_type": "code",
   "execution_count": 1,
   "metadata": {},
   "outputs": [
    {
     "data": {
      "text/plain": [
       "{'1809_1970_fastext_10_300_5.bin': <gensim.models.fasttext.FastText at 0x7efdc3ea4390>,\n",
       " '1971_1975_fastext_10_300_5.bin': <gensim.models.fasttext.FastText at 0x7efd8d834e10>,\n",
       " '1976_1980_fastext_10_300_5.bin': <gensim.models.fasttext.FastText at 0x7efd8adf3828>,\n",
       " '1981_1985_fastext_10_300_5.bin': <gensim.models.fasttext.FastText at 0x7efd8703ebe0>,\n",
       " '1986_1990_fastext_10_300_5.bin': <gensim.models.fasttext.FastText at 0x7efd7844aeb8>,\n",
       " '1991_1995_fastext_10_300_5.bin': <gensim.models.fasttext.FastText at 0x7efd75a8c5f8>,\n",
       " '1996_2000_fastext_10_300_5.bin': <gensim.models.fasttext.FastText at 0x7efd5dfa0c50>,\n",
       " '2001_2005_fastext_10_300_5.bin': <gensim.models.fasttext.FastText at 0x7efd55022978>,\n",
       " '2006_2010_fastext_10_300_5.bin': <gensim.models.fasttext.FastText at 0x7efd3e62cf60>,\n",
       " '2011_2012_fastext_10_300_5.bin': <gensim.models.fasttext.FastText at 0x7efd1309af60>,\n",
       " '2013_2015_fastext_10_300_5.bin': <gensim.models.fasttext.FastText at 0x7efd0315b6d8>}"
      ]
     },
     "execution_count": 1,
     "metadata": {},
     "output_type": "execute_result"
    }
   ],
   "source": [
    "from gensim.models import FastText,Word2Vec\n",
    "#import comman_function_analysis as cf\n",
    "#import commonFunctions as cff\n",
    "import os\n",
    "os.environ[\"MKL_NUM_THREADS\"] = \"2\" \n",
    "os.environ[\"NUMEXPR_NUM_THREADS\"] = \"2\" \n",
    "os.environ[\"OMP_NUM_THREADS\"] = \"2\" \n",
    "import pickle\n",
    "import numpy as np\n",
    "import gensim\n",
    "\n",
    "from collections import OrderedDict\n",
    "\n",
    "import pickle\n",
    "#with open('concept_withName_dict.bin','rb') as fin:\n",
    "    #concept_dict = pickle.load(fin)\n",
    "    \n",
    "def getAllfiles(path, endStr=''):\n",
    "    \"\"\"\n",
    "    :param path: URL of the folder\n",
    "    :startStr: starting text if specific named files are needed\n",
    "    :return: a list of all files inside a folder\n",
    "\n",
    "    \"\"\"\n",
    "    if endStr!= '':\n",
    "\n",
    "        return [ y   for x in (os.walk(path)) for y in x[2] if y.endswith(endStr)  ]\n",
    "    else:\n",
    "        return [y for x in (os.walk(path)) for y in x[2] ]\n",
    "def cosine_similarity(vec1,vec2):\n",
    "    \n",
    "    \"\"\"\n",
    "    returns the normalized cosine similarity between two vector, similar to gensim consine similarity\n",
    "    \"\"\"\n",
    "    return np.dot(vec1, vec2)/(np.linalg.norm(vec1)* np.linalg.norm(vec2))\n",
    "\n",
    "\n",
    "TIME_FRAME = ['1809_1970','1971_1975','1976_1980','1981_1985','1986_1990','1991_1995','1996_2000','2001_2005',\\\n",
    "              '2006_2010','2011_2012','2013_2015']\n",
    "\n",
    "path = '/mnt/raid0/datasets/gvashisth/thesis/SGNS_trained_model/inc_5_yr/'\n",
    "sgns_modelList = getAllfiles(path,'.bin')\n",
    "\n",
    "\n",
    "sgns_model_dict = { file : \n",
    "              FastText.load_fasttext_format(path+file) \n",
    "              for file in sgns_modelList}\n",
    "sgns_model_dict\n"
   ]
  },
  {
   "cell_type": "code",
   "execution_count": 4,
   "metadata": {},
   "outputs": [],
   "source": [
    "main_path =\"/mnt/raid0/datasets/gvashisth/thesis/PPMI_model_uniq/\"\n",
    "suffix = \"_explicit_ppmi.bin\"\n",
    "\n",
    "ppmi_modelList = getAllfiles(main_path,suffix)\n",
    "\n",
    "ppm_model_dict = {}\n",
    "for file in ppmi_modelList:\n",
    "    with open(main_path+file, \"rb\") as fin :\n",
    "        ppm_model_dict[file] = pickle.load(fin) \n"
   ]
  },
  {
   "cell_type": "code",
   "execution_count": 246,
   "metadata": {},
   "outputs": [
    {
     "data": {
      "text/plain": [
       "'/mnt/hdd/experiments/gvashisth/thesis/scripts'"
      ]
     },
     "execution_count": 246,
     "metadata": {},
     "output_type": "execute_result"
    }
   ],
   "source": [
    "%pwd"
   ]
  },
  {
   "cell_type": "code",
   "execution_count": 247,
   "metadata": {},
   "outputs": [
    {
     "data": {
      "text/html": [
       "<div>\n",
       "<style scoped>\n",
       "    .dataframe tbody tr th:only-of-type {\n",
       "        vertical-align: middle;\n",
       "    }\n",
       "\n",
       "    .dataframe tbody tr th {\n",
       "        vertical-align: top;\n",
       "    }\n",
       "\n",
       "    .dataframe thead th {\n",
       "        text-align: right;\n",
       "    }\n",
       "</style>\n",
       "<table border=\"1\" class=\"dataframe\">\n",
       "  <thead>\n",
       "    <tr style=\"text-align: right;\">\n",
       "      <th></th>\n",
       "      <th>c1</th>\n",
       "      <th>c2</th>\n",
       "    </tr>\n",
       "  </thead>\n",
       "  <tbody>\n",
       "    <tr>\n",
       "      <th>0</th>\n",
       "      <td>C0000737</td>\n",
       "      <td>C0291771</td>\n",
       "    </tr>\n",
       "    <tr>\n",
       "      <th>1</th>\n",
       "      <td>C0000737</td>\n",
       "      <td>C0291772</td>\n",
       "    </tr>\n",
       "    <tr>\n",
       "      <th>2</th>\n",
       "      <td>C0000737</td>\n",
       "      <td>C0872954</td>\n",
       "    </tr>\n",
       "    <tr>\n",
       "      <th>3</th>\n",
       "      <td>C0000737</td>\n",
       "      <td>C1329180</td>\n",
       "    </tr>\n",
       "    <tr>\n",
       "      <th>4</th>\n",
       "      <td>C0000771</td>\n",
       "      <td>C0003830</td>\n",
       "    </tr>\n",
       "  </tbody>\n",
       "</table>\n",
       "</div>"
      ],
      "text/plain": [
       "         c1        c2\n",
       "0  C0000737  C0291771\n",
       "1  C0000737  C0291772\n",
       "2  C0000737  C0872954\n",
       "3  C0000737  C1329180\n",
       "4  C0000771  C0003830"
      ]
     },
     "execution_count": 247,
     "metadata": {},
     "output_type": "execute_result"
    }
   ],
   "source": [
    "import pandas as pd\n",
    "\n",
    "treat = pd.read_csv('5_yr_10/may_treat',names=['c1','c2'])\n",
    "treat.drop_duplicates(subset=['c1','c2'],inplace=True)\n",
    "treat.head()"
   ]
  },
  {
   "cell_type": "code",
   "execution_count": 248,
   "metadata": {},
   "outputs": [
    {
     "data": {
      "text/plain": [
       "(44884, 2)"
      ]
     },
     "execution_count": 248,
     "metadata": {},
     "output_type": "execute_result"
    }
   ],
   "source": [
    "treat.shape"
   ]
  },
  {
   "cell_type": "code",
   "execution_count": 14,
   "metadata": {},
   "outputs": [],
   "source": [
    "dd= treat.iloc[:5,:]"
   ]
  },
  {
   "cell_type": "code",
   "execution_count": null,
   "metadata": {},
   "outputs": [],
   "source": [
    "def get_true_false(dataframe, num_of_tuple):\n",
    "    true_tup =  dataframe.iloc[:num_of_tuple,:]\n",
    "    \n",
    "    false_tup = pd.DataFrame([(x,y) for x,y in zip(np.random.choice(true_tup.c1.unique(),size=num_of_tuple*3),\\\n",
    "                                                      np.random.choice(true_tup.c2.unique(),size=num_of_tuple*3)) if not ((true_tup['c1'] == x) & (true_tup['c2'] == y)).any()],columns=['c1','c2'])\n",
    "    return true_tup, false_tup.drop_duplicates(subset=['c1','c2']).iloc[:num_of_tuple,:]"
   ]
  },
  {
   "cell_type": "code",
   "execution_count": 279,
   "metadata": {},
   "outputs": [],
   "source": [
    "from multiprocessing import Pool\n"
   ]
  },
  {
   "cell_type": "code",
   "execution_count": 287,
   "metadata": {},
   "outputs": [],
   "source": []
  },
  {
   "cell_type": "code",
   "execution_count": 266,
   "metadata": {},
   "outputs": [
    {
     "data": {
      "text/plain": [
       "[('C0038525', 'C0977337'), ('C0038218', 'C1164736')]"
      ]
     },
     "execution_count": 266,
     "metadata": {},
     "output_type": "execute_result"
    }
   ],
   "source": [
    "sample[:2]"
   ]
  },
  {
   "cell_type": "code",
   "execution_count": 262,
   "metadata": {},
   "outputs": [
    {
     "data": {
      "text/plain": [
       "134652"
      ]
     },
     "execution_count": 262,
     "metadata": {},
     "output_type": "execute_result"
    }
   ],
   "source": [
    "len(sample)"
   ]
  },
  {
   "cell_type": "code",
   "execution_count": 268,
   "metadata": {},
   "outputs": [],
   "source": [
    "ss =  treat.iloc[:1000,:]"
   ]
  },
  {
   "cell_type": "code",
   "execution_count": 302,
   "metadata": {},
   "outputs": [],
   "source": [
    "def mutli_true_false(dataframe, num_of_tuple):\n",
    "    #record_list = []\n",
    "    true_tup =  dataframe.iloc[:num_of_tuple,:]\n",
    "    sample = [(true_tup,(x,y)) for x,y in zip(np.random.choice(true_tup.c1.unique(),size=num_of_tuple*3),\\\n",
    "                                                      np.random.choice(true_tup.c2.unique(),size=num_of_tuple*3))]\n",
    "    record_list = pool.map(check_value,sample)\n",
    "    pool.close()\n",
    "    pool.join()\n",
    "    #print(record_list)\n",
    "    false_tup = pd.DataFrame(record_list,columns=['c1','c2'])\n",
    "    return true_tup, false_tup.drop_duplicates(subset=['c1','c2']).iloc[:num_of_tuple,:]"
   ]
  },
  {
   "cell_type": "code",
   "execution_count": 299,
   "metadata": {},
   "outputs": [],
   "source": [
    "def check_value(tup_rec):\n",
    "    tab,tuple_row = tup_rec[0],tup_rec[1]\n",
    "    if ((tab['c1'] != tuple_row[0]) & (tab['c2'] != tuple_row[1])).any() :\n",
    "        return tuple_row"
   ]
  },
  {
   "cell_type": "code",
   "execution_count": 311,
   "metadata": {},
   "outputs": [],
   "source": [
    "pool = Pool(20)\n",
    "tr,fl = mutli_true_false(treat,num_of_tuple=44884) #get_true_false(treat,num_of_tuple=44884)"
   ]
  },
  {
   "cell_type": "code",
   "execution_count": 306,
   "metadata": {},
   "outputs": [
    {
     "data": {
      "text/plain": [
       "(204, 2)"
      ]
     },
     "execution_count": 306,
     "metadata": {},
     "output_type": "execute_result"
    }
   ],
   "source": [
    "pd.merge(tr,fl,on=['c1','c2']).shape"
   ]
  },
  {
   "cell_type": "code",
   "execution_count": 314,
   "metadata": {},
   "outputs": [
    {
     "data": {
      "text/plain": [
       "(0, 2)"
      ]
     },
     "execution_count": 314,
     "metadata": {},
     "output_type": "execute_result"
    }
   ],
   "source": [
    "set_fl = set([tuple(line) for line in fl.values])\n",
    "set_tr = set([tuple(line) for line in tr.values])\n",
    "#ds1.difference(ds2)\n",
    "new_fl = pd.DataFrame(list(set_fl.difference(set_tr)),columns=['c1','c2'] )\n",
    "pd.merge(tr,new_fl,on=['c1','c2']).shape"
   ]
  },
  {
   "cell_type": "code",
   "execution_count": 315,
   "metadata": {},
   "outputs": [
    {
     "name": "stdout",
     "output_type": "stream",
     "text": [
      "(44884, 2)\n",
      "(44884, 2)\n",
      "(44685, 2)\n"
     ]
    }
   ],
   "source": [
    "print(fl.shape)\n",
    "print(tr.shape)\n",
    "print(new_fl.shape)"
   ]
  },
  {
   "cell_type": "code",
   "execution_count": 156,
   "metadata": {},
   "outputs": [],
   "source": [
    "def get_sgns_time(time, dataframe):\n",
    "    k_sgns=time+'_fastext_10_300_5.bin' \n",
    "    model=sgns_model_dict[k_sgns]\n",
    "    score_list = []\n",
    "    for row in dataframe.itertuples():\n",
    "        if row[1] in model.wv.vocab.keys() and row[2] in  model.wv.vocab.keys() :\n",
    "            score_list.append(model.wv.similarity(row[1],row[2]) )\n",
    "        else:\n",
    "            score_list.append(-np.inf)\n",
    "            \n",
    "    dataframe['sgns_{}'.format(time)] = score_list"
   ]
  },
  {
   "cell_type": "code",
   "execution_count": 164,
   "metadata": {},
   "outputs": [],
   "source": [
    "def get_ppmi_time(time, dataframe):\n",
    "    k_sgns=time+'_fastext_10_300_5.bin' \n",
    "    model=sgns_model_dict[k_sgns]\n",
    "    ppm_key = time+suffix\n",
    "    score_list = []\n",
    "    for row in dataframe.itertuples():\n",
    "        if row[1] in model.wv.vocab.keys() and row[2] in  model.wv.vocab.keys() :\n",
    "            score_list.append(ppm_model_dict[ppm_key].represent(row[1]).dot(ppm_model_dict[ppm_key].represent(row[2]).T)[0, 0] )\n",
    "        else:\n",
    "            score_list.append(-np.inf)\n",
    "            \n",
    "    dataframe['pmi_{}'.format(time)] = score_list"
   ]
  },
  {
   "cell_type": "code",
   "execution_count": 316,
   "metadata": {},
   "outputs": [
    {
     "name": "stderr",
     "output_type": "stream",
     "text": [
      "/home/gvashisth/miniconda2/envs/new_thesis/lib/python3.5/site-packages/ipykernel_launcher.py:11: SettingWithCopyWarning: \n",
      "A value is trying to be set on a copy of a slice from a DataFrame.\n",
      "Try using .loc[row_indexer,col_indexer] = value instead\n",
      "\n",
      "See the caveats in the documentation: http://pandas.pydata.org/pandas-docs/stable/indexing.html#indexing-view-versus-copy\n",
      "  # This is added back by InteractiveShellApp.init_path()\n",
      "/home/gvashisth/miniconda2/envs/new_thesis/lib/python3.5/site-packages/ipykernel_launcher.py:12: SettingWithCopyWarning: \n",
      "A value is trying to be set on a copy of a slice from a DataFrame.\n",
      "Try using .loc[row_indexer,col_indexer] = value instead\n",
      "\n",
      "See the caveats in the documentation: http://pandas.pydata.org/pandas-docs/stable/indexing.html#indexing-view-versus-copy\n",
      "  if sys.path[0] == '':\n"
     ]
    }
   ],
   "source": [
    "for time in TIME_FRAME:\n",
    "    get_sgns_time(time,tr)\n",
    "    get_sgns_time(time,new_fl)\n",
    "    get_ppmi_time(time,tr)\n",
    "    get_ppmi_time(time,new_fl)"
   ]
  },
  {
   "cell_type": "code",
   "execution_count": 209,
   "metadata": {},
   "outputs": [
    {
     "data": {
      "text/plain": [
       "Index(['c1', 'c2', 'sgns_1809_1970', 'pmi_1809_1970', 'sgns_1971_1975',\n",
       "       'pmi_1971_1975', 'sgns_1976_1980', 'pmi_1976_1980', 'sgns_1981_1985',\n",
       "       'pmi_1981_1985', 'sgns_1986_1990', 'pmi_1986_1990', 'sgns_1991_1995',\n",
       "       'pmi_1991_1995', 'sgns_1996_2000', 'pmi_1996_2000', 'sgns_2001_2005',\n",
       "       'pmi_2001_2005', 'sgns_2006_2010', 'pmi_2006_2010', 'sgns_2011_2012',\n",
       "       'pmi_2011_2012', 'sgns_2013_2015', 'pmi_2013_2015'],\n",
       "      dtype='object')"
      ]
     },
     "execution_count": 209,
     "metadata": {},
     "output_type": "execute_result"
    }
   ],
   "source": [
    "tr.columns"
   ]
  },
  {
   "cell_type": "code",
   "execution_count": 210,
   "metadata": {},
   "outputs": [
    {
     "name": "stdout",
     "output_type": "stream",
     "text": [
      "0.260028071655\n",
      "-0.0219989083707\n",
      "0.627778351307\n",
      "32\n"
     ]
    }
   ],
   "source": [
    "print(tr[tr['sgns_2013_2015']!=-np.inf][:1000]['sgns_2013_2015'].mean())\n",
    "print(tr[tr['sgns_2013_2015']!=-np.inf][:1000]['sgns_2013_2015'].min())\n",
    "print(tr[tr['sgns_2013_2015']!=-np.inf][:1000]['sgns_2013_2015'].max())\n",
    "print(tr[(tr['sgns_2013_2015']!=-np.inf) & (tr['sgns_2013_2015']<=.09)][:1000]['sgns_2013_2015'].count())"
   ]
  },
  {
   "cell_type": "code",
   "execution_count": 203,
   "metadata": {},
   "outputs": [
    {
     "name": "stdout",
     "output_type": "stream",
     "text": [
      "0.152756003184\n",
      "-0.0198071133345\n",
      "0.400890290737\n",
      "73\n"
     ]
    }
   ],
   "source": [
    "print(fl[fl['sgns_2013_2015']!=-np.inf][:1000]['sgns_2013_2015'].mean())\n",
    "print(fl[fl['sgns_2013_2015']!=-np.inf][:1000]['sgns_2013_2015'].min())\n",
    "print(fl[fl['sgns_2013_2015']!=-np.inf][:1000]['sgns_2013_2015'].max())\n",
    "print(fl[(fl['sgns_2013_2015']!=-np.inf) & (fl['sgns_2013_2015']<=.09)][:1000]['sgns_2013_2015'].count())"
   ]
  },
  {
   "cell_type": "code",
   "execution_count": 204,
   "metadata": {},
   "outputs": [
    {
     "name": "stdout",
     "output_type": "stream",
     "text": [
      "0.321411861049\n",
      "0.0141972340643\n",
      "0.67346405983\n",
      "0\n"
     ]
    }
   ],
   "source": [
    "print(tr[tr['sgns_1809_1970']!=-np.inf][:1000]['sgns_1809_1970'].mean())\n",
    "print(tr[tr['sgns_1809_1970']!=-np.inf][:1000]['sgns_1809_1970'].min())\n",
    "print(tr[tr['sgns_1809_1970']!=-np.inf][:1000]['sgns_1809_1970'].max())\n",
    "print(tr[(tr['sgns_1809_1970']!=-np.inf) & (tr['sgns_1809_1970']<=0)][:1000]['sgns_1809_1970'].count())"
   ]
  },
  {
   "cell_type": "code",
   "execution_count": 168,
   "metadata": {},
   "outputs": [
    {
     "name": "stdout",
     "output_type": "stream",
     "text": [
      "0.0129182484416\n",
      "0.0\n",
      "0.24246257612\n",
      "747\n"
     ]
    }
   ],
   "source": [
    "print(tr[tr['pmi_2013_2015']!=-np.inf][:1000]['pmi_2013_2015'].mean())\n",
    "print(tr[tr['pmi_2013_2015']!=-np.inf][:1000]['pmi_2013_2015'].min())\n",
    "print(tr[tr['pmi_2013_2015']!=-np.inf][:1000]['pmi_2013_2015'].max())\n",
    "print(tr[(tr['pmi_2013_2015']!=-np.inf) & (tr['pmi_2013_2015']<=.00)][:1000]['pmi_2013_2015'].count())"
   ]
  },
  {
   "cell_type": "code",
   "execution_count": 221,
   "metadata": {},
   "outputs": [
    {
     "data": {
      "text/plain": [
       "(10000, 24)"
      ]
     },
     "execution_count": 221,
     "metadata": {},
     "output_type": "execute_result"
    }
   ],
   "source": [
    "tr.shape"
   ]
  },
  {
   "cell_type": "code",
   "execution_count": 222,
   "metadata": {},
   "outputs": [
    {
     "data": {
      "text/plain": [
       "(0, 24)"
      ]
     },
     "metadata": {},
     "output_type": "display_data"
    }
   ],
   "source": [
    "#1971_1975\n",
    "display(tr[(tr['sgns_1971_1975']!=-np.inf) & (tr['sgns_1971_1975']==0)].shape)\n"
   ]
  },
  {
   "cell_type": "code",
   "execution_count": 195,
   "metadata": {},
   "outputs": [
    {
     "data": {
      "text/html": [
       "<div>\n",
       "<style scoped>\n",
       "    .dataframe tbody tr th:only-of-type {\n",
       "        vertical-align: middle;\n",
       "    }\n",
       "\n",
       "    .dataframe tbody tr th {\n",
       "        vertical-align: top;\n",
       "    }\n",
       "\n",
       "    .dataframe thead th {\n",
       "        text-align: right;\n",
       "    }\n",
       "</style>\n",
       "<table border=\"1\" class=\"dataframe\">\n",
       "  <thead>\n",
       "    <tr style=\"text-align: right;\">\n",
       "      <th></th>\n",
       "      <th>c1</th>\n",
       "      <th>c2</th>\n",
       "      <th>score_1809_1970</th>\n",
       "      <th>score_1971_1975</th>\n",
       "      <th>score_1976_1980</th>\n",
       "      <th>score_1981_1985</th>\n",
       "      <th>score_1986_1990</th>\n",
       "      <th>score_1991_1995</th>\n",
       "      <th>score_1996_2000</th>\n",
       "      <th>score_2001_2005</th>\n",
       "      <th>...</th>\n",
       "      <th>pmi_1971_1975</th>\n",
       "      <th>pmi_1976_1980</th>\n",
       "      <th>pmi_1981_1985</th>\n",
       "      <th>pmi_1986_1990</th>\n",
       "      <th>pmi_1991_1995</th>\n",
       "      <th>pmi_1996_2000</th>\n",
       "      <th>pmi_2001_2005</th>\n",
       "      <th>pmi_2006_2010</th>\n",
       "      <th>pmi_2011_2012</th>\n",
       "      <th>pmi_2013_2015</th>\n",
       "    </tr>\n",
       "  </thead>\n",
       "  <tbody>\n",
       "  </tbody>\n",
       "</table>\n",
       "<p>0 rows × 35 columns</p>\n",
       "</div>"
      ],
      "text/plain": [
       "Empty DataFrame\n",
       "Columns: [c1, c2, score_1809_1970, score_1971_1975, score_1976_1980, score_1981_1985, score_1986_1990, score_1991_1995, score_1996_2000, score_2001_2005, score_2006_2010, score_2011_2012, score_2013_2015, sgns_1809_1970, sgns_1971_1975, sgns_1976_1980, sgns_1981_1985, sgns_1986_1990, sgns_1991_1995, sgns_1996_2000, sgns_2001_2005, sgns_2006_2010, sgns_2011_2012, sgns_2013_2015, pmi_1809_1970, pmi_1971_1975, pmi_1976_1980, pmi_1981_1985, pmi_1986_1990, pmi_1991_1995, pmi_1996_2000, pmi_2001_2005, pmi_2006_2010, pmi_2011_2012, pmi_2013_2015]\n",
       "Index: []\n",
       "\n",
       "[0 rows x 35 columns]"
      ]
     },
     "execution_count": 195,
     "metadata": {},
     "output_type": "execute_result"
    }
   ],
   "source": [
    "fl[(fl['c1']=='C0005686') & (fl['c2']=='C0001714')]"
   ]
  },
  {
   "cell_type": "code",
   "execution_count": null,
   "metadata": {},
   "outputs": [],
   "source": []
  },
  {
   "cell_type": "code",
   "execution_count": 336,
   "metadata": {},
   "outputs": [
    {
     "name": "stdout",
     "output_type": "stream",
     "text": [
      "SGNS\n",
      "TIME, # of zeros\n",
      "hh\n",
      "scount,1809_1970,5 \n",
      "pcount,1809_1970,221\n",
      "smean,1809_1970,0.3311867487039417,0.7543472051620483\n",
      "pmean,1809_1970,0.025915743040875044,0.2857647771955965 \n",
      "scount,1971_1975,3 \n",
      "pcount,1971_1975,662\n",
      "smean,1971_1975,0.3082364931019644,0.705193817615509\n",
      "pmean,1971_1975,0.020910345899059168,0.35414775148968136 \n",
      "scount,1976_1980,12 \n",
      "pcount,1976_1980,356\n",
      "smean,1976_1980,0.29186973847448827,0.6974166631698608\n",
      "pmean,1976_1980,0.024491521027427295,0.376214549943841 \n",
      "scount,1981_1985,16 \n",
      "pcount,1981_1985,357\n",
      "smean,1981_1985,0.28621718647393085,0.670173168182373\n",
      "pmean,1981_1985,0.025364236782319412,0.3296228201313084 \n",
      "scount,1986_1990,14 \n",
      "pcount,1986_1990,313\n",
      "smean,1986_1990,0.2791112131004532,0.7014037370681763\n",
      "pmean,1986_1990,0.024527483685168,0.2923105592844246 \n",
      "scount,1991_1995,17 \n",
      "pcount,1991_1995,425\n",
      "smean,1991_1995,0.2728804139830172,0.672159731388092\n",
      "pmean,1991_1995,0.022304666335834833,0.3245429825992315 \n",
      "scount,1996_2000,12 \n",
      "pcount,1996_2000,415\n",
      "smean,1996_2000,0.2702836526778216,0.7010383605957031\n",
      "pmean,1996_2000,0.021037072811741886,0.3369376000498127 \n",
      "scount,2001_2005,18 \n",
      "pcount,2001_2005,415\n",
      "smean,2001_2005,0.25984733175237973,0.7138189077377319\n",
      "pmean,2001_2005,0.019922552207599985,0.34519601676177475 \n",
      "scount,2006_2010,16 \n",
      "pcount,2006_2010,424\n",
      "smean,2006_2010,0.2533990045118456,0.709941565990448\n",
      "pmean,2006_2010,0.019395883177330195,0.33156081795025927 \n",
      "scount,2011_2012,13 \n",
      "pcount,2011_2012,687\n",
      "smean,2011_2012,0.25372088866494596,0.6820725202560425\n",
      "pmean,2011_2012,0.016150278048234757,0.3327731938348698 \n",
      "scount,2013_2015,24 \n",
      "pcount,2013_2015,790\n",
      "smean,2013_2015,0.24575905107706786,0.7020068168640137\n",
      "pmean,2013_2015,0.014774215480217545,0.31371474996754645 \n"
     ]
    }
   ],
   "source": [
    "print(\"SGNS\")\n",
    "print(\"TIME, # of zeros\")\n",
    "#_t_sgns = ''\n",
    "for i,time in enumerate(TIME_FRAME):\n",
    "    #if i ==0:\n",
    "    _t_sgns = tr[(tr['sgns_'+time]!=-np.inf)].sample(n=3000) #['sgns_'+time].count() & (tr['sgns_'+time]==.00)\n",
    "    #print(_t_sgns.shape)#_t_sgns[(_t_sgns['pmi_'+time]!=-np.inf) & (_t_sgns['pmi_'+time]<=.00)]['pmi_'+time].count()\n",
    "        #print('hh')\n",
    "    print(\"scount,{},{} \".format(time,_t_sgns[_t_sgns['sgns_'+time]<=.05]['sgns_'+time].count()))\n",
    "    print(\"pcount,{},{}\".format(time,_t_sgns[_t_sgns['pmi_'+time]==0]['pmi_'+time].count()))\n",
    "    print(\"smean,{},{},{}\".format(time,_t_sgns['sgns_'+time].mean(),_t_sgns['sgns_'+time].max()))\n",
    "    print(\"pmean,{},{},{} \".format(time,_t_sgns['pmi_'+time].mean(),_t_sgns['pmi_'+time].max()))"
   ]
  },
  {
   "cell_type": "code",
   "execution_count": 331,
   "metadata": {},
   "outputs": [
    {
     "name": "stdout",
     "output_type": "stream",
     "text": [
      "SGNS\n",
      "TIME, # of zeros\n",
      "scount,1809_1970,56 \n",
      "pcount,1809_1970,573\n",
      "smean,1809_1970,0.20791763930705687,0.5881251096725464\n",
      "pmean,1809_1970,0.003485299286974925,0.17094912177867827 \n",
      "scount,1971_1975,52 \n",
      "pcount,1971_1975,984\n",
      "smean,1971_1975,0.19742975264042617,0.5964272022247314\n",
      "pmean,1971_1975,0.003107798210948336,0.08599810844941813 \n",
      "scount,1976_1980,106 \n",
      "pcount,1976_1980,680\n",
      "smean,1976_1980,0.16828050282752763,0.5639092922210693\n",
      "pmean,1976_1980,0.0027488312398833634,0.1344159810396496 \n",
      "scount,1981_1985,137 \n",
      "pcount,1981_1985,663\n",
      "smean,1981_1985,0.15723529312697548,0.5304141640663147\n",
      "pmean,1981_1985,0.002579327870445759,0.1499260954958605 \n",
      "scount,1986_1990,135 \n",
      "pcount,1986_1990,729\n",
      "smean,1986_1990,0.15478395048358168,0.5534582138061523\n",
      "pmean,1986_1990,0.002387576435368064,0.13862172068296955 \n",
      "scount,1991_1995,150 \n",
      "pcount,1991_1995,761\n",
      "smean,1991_1995,0.14907450615552564,0.5052852630615234\n",
      "pmean,1991_1995,0.00216061134271263,0.07294507012679965 \n",
      "scount,1996_2000,157 \n",
      "pcount,1996_2000,780\n",
      "smean,1996_2000,0.14857158196158707,0.5100811719894409\n",
      "pmean,1996_2000,0.002165171954329612,0.14927687029805844 \n",
      "scount,2001_2005,147 \n",
      "pcount,2001_2005,767\n",
      "smean,2001_2005,0.14574773087647433,0.49873462319374084\n",
      "pmean,2001_2005,0.0021476574912982316,0.12095837400267712 \n",
      "scount,2006_2010,177 \n",
      "pcount,2006_2010,832\n",
      "smean,2006_2010,0.14382971077008794,0.47559237480163574\n",
      "pmean,2006_2010,0.0018500770610082751,0.07662464184643561 \n",
      "scount,2011_2012,146 \n",
      "pcount,2011_2012,1178\n",
      "smean,2011_2012,0.15268812849357102,0.46708235144615173\n",
      "pmean,2011_2012,0.0018408977691535496,0.08815094016897738 \n",
      "scount,2013_2015,136 \n",
      "pcount,2013_2015,1264\n",
      "smean,2013_2015,0.15227189082559198,0.42497262358665466\n",
      "pmean,2013_2015,0.0016498604328373293,0.07708550236835154 \n"
     ]
    }
   ],
   "source": [
    "# false\n",
    "print(\"SGNS\")\n",
    "print(\"TIME, # of zeros\")\n",
    "for time in TIME_FRAME:\n",
    "    _f_sgns = new_fl[(new_fl['sgns_'+time]!=-np.inf)].sample(n=3000)\n",
    "    print(\"scount,{},{} \".format(time,_f_sgns[_f_sgns['sgns_'+time]<=.05]['sgns_'+time].count()))\n",
    "#print(\"PPMI\")\n",
    "#print(\"TIME, # of zeros\")\n",
    "#for time in TIME_FRAME: _f_sgns[(_f_sgns['pmi_'+time]!=-np.inf) & (_f_sgns['pmi_'+time]==.00)]['pmi_'+time].count()    \n",
    "    print(\"pcount,{},{}\".format(time,_f_sgns[_f_sgns['pmi_'+time]==0]['pmi_'+time].count()))\n",
    "    print(\"smean,{},{},{}\".format(time,_f_sgns['sgns_'+time].mean(),_f_sgns['sgns_'+time].max()))\n",
    "    print(\"pmean,{},{},{} \".format(time,_f_sgns['pmi_'+time].mean(),_f_sgns['pmi_'+time].max()))\n",
    "    \n",
    "    \n"
   ]
  },
  {
   "cell_type": "code",
   "execution_count": 205,
   "metadata": {},
   "outputs": [
    {
     "data": {
      "text/plain": [
       "Index(['c1', 'c2', 'score_1809_1970', 'score_1971_1975', 'score_1976_1980',\n",
       "       'score_1981_1985', 'score_1986_1990', 'score_1991_1995',\n",
       "       'score_1996_2000', 'score_2001_2005', 'score_2006_2010',\n",
       "       'score_2011_2012', 'score_2013_2015', 'sgns_1809_1970',\n",
       "       'sgns_1971_1975', 'sgns_1976_1980', 'sgns_1981_1985', 'sgns_1986_1990',\n",
       "       'sgns_1991_1995', 'sgns_1996_2000', 'sgns_2001_2005', 'sgns_2006_2010',\n",
       "       'sgns_2011_2012', 'sgns_2013_2015', 'pmi_1809_1970', 'pmi_1971_1975',\n",
       "       'pmi_1976_1980', 'pmi_1981_1985', 'pmi_1986_1990', 'pmi_1991_1995',\n",
       "       'pmi_1996_2000', 'pmi_2001_2005', 'pmi_2006_2010', 'pmi_2011_2012',\n",
       "       'pmi_2013_2015'],\n",
       "      dtype='object')"
      ]
     },
     "execution_count": 205,
     "metadata": {},
     "output_type": "execute_result"
    }
   ],
   "source": [
    "tr.columns"
   ]
  },
  {
   "cell_type": "code",
   "execution_count": null,
   "metadata": {},
   "outputs": [],
   "source": []
  },
  {
   "cell_type": "code",
   "execution_count": null,
   "metadata": {},
   "outputs": [],
   "source": []
  },
  {
   "cell_type": "code",
   "execution_count": null,
   "metadata": {},
   "outputs": [],
   "source": []
  },
  {
   "cell_type": "code",
   "execution_count": null,
   "metadata": {},
   "outputs": [],
   "source": []
  },
  {
   "cell_type": "code",
   "execution_count": 322,
   "metadata": {},
   "outputs": [
    {
     "name": "stdout",
     "output_type": "stream",
     "text": [
      "SGNS\n",
      "TIME, mean, max\n",
      "s,1809_1970,0.3300205420255661,0.6775633096694946\n",
      "p,1809_1970,0.025492352910969115,0.2593108902398268 \n",
      "s,1971_1975,0.31563577457889913,0.72144615650177\n",
      "p,1971_1975,0.020825563405566003,0.33427211433678056 \n",
      "s,1976_1980,0.3087928900979459,0.6780615448951721\n",
      "p,1976_1980,0.026527824821518584,0.26859233670840593 \n",
      "s,1981_1985,0.30712686674669387,0.670173168182373\n",
      "p,1981_1985,0.02907402191812182,0.2812335263049411 \n",
      "s,1986_1990,0.30453384345024825,0.6468294262886047\n",
      "p,1986_1990,0.029876612640828033,0.3104281458389142 \n",
      "s,1991_1995,0.3002914763391018,0.656867265701294\n",
      "p,1991_1995,0.025700713029063956,0.34830384692691874 \n",
      "s,1996_2000,0.30331080087274315,0.7085130214691162\n",
      "p,1996_2000,0.02703572799382744,0.27852401772580365 \n",
      "s,2001_2005,0.2873845221847296,0.6524094343185425\n",
      "p,2001_2005,0.024463823847898077,0.29510709085761244 \n",
      "s,2006_2010,0.27240155317261816,0.6822232604026794\n",
      "p,2006_2010,0.021288466824764887,0.2177301232239228 \n",
      "s,2011_2012,0.27103210531547667,0.7304202318191528\n",
      "p,2011_2012,0.01759064723837629,0.3496540978652139 \n",
      "s,2013_2015,0.25810998397693036,0.5592213869094849\n",
      "p,2013_2015,0.013700328589006841,0.21987380381000665 \n"
     ]
    }
   ],
   "source": [
    "print(\"SGNS\")\n",
    "print(\"TIME, mean, max\")\n",
    "for time in TIME_FRAME:\n",
    "    _t_sgns = tr[(tr['sgns_'+time]!=-np.inf)].sample(n=1000)\n",
    "    print(\"s,{},{},{}\".format(time,_t_sgns['sgns_'+time].mean(),_t_sgns['sgns_'+time].max()))\n",
    "#print(\"PPMI\")\n",
    "#print(\"TIME, mean, std\")\n",
    "#for time in TIME_FRAME:     \n",
    "    print(\"p,{},{},{} \".format(time,_t_sgns['pmi_'+time].mean(),_t_sgns['pmi_'+time].max()))"
   ]
  },
  {
   "cell_type": "code",
   "execution_count": null,
   "metadata": {},
   "outputs": [],
   "source": [
    "print(\"SGNS\")\n",
    "print(\"TIME, mean, std\")\n",
    "for time in TIME_FRAME:\n",
    "    _f_sgns = fl[(fl['sgns_'+time]!=-np.inf)].sample(n=1000)\n",
    "    print(\"s,{},{},{}\".format(time,_f_sgns['sgns_'+time].mean(),_f_sgns['sgns_'+time].std()))\n",
    "#print(\"PPMI\")\n",
    "#print(\"TIME, mean, std\")\n",
    "#for time in TIME_FRAME:     \n",
    "    print(\"p,{},{},{} \".format(time,_f_sgns[_f_sgns['pmi_'+time]!=-np.inf]['pmi_'+time].mean(),_f_sgns[_f_sgns['pmi_'+time]!=-np.inf]['pmi_'+time].std()))"
   ]
  },
  {
   "cell_type": "code",
   "execution_count": 186,
   "metadata": {
    "collapsed": true
   },
   "outputs": [
    {
     "data": {
      "text/plain": [
       "Index(['c1', 'c2', 'score_1809_1970', 'score_1971_1975', 'score_1976_1980',\n",
       "       'score_1981_1985', 'score_1986_1990', 'score_1991_1995',\n",
       "       'score_1996_2000', 'score_2001_2005', 'score_2006_2010',\n",
       "       'score_2011_2012', 'score_2013_2015', 'sgns_1809_1970',\n",
       "       'sgns_1971_1975', 'sgns_1976_1980', 'sgns_1981_1985', 'sgns_1986_1990',\n",
       "       'sgns_1991_1995', 'sgns_1996_2000', 'sgns_2001_2005', 'sgns_2006_2010',\n",
       "       'sgns_2011_2012', 'sgns_2013_2015', 'pmi_1809_1970', 'pmi_1971_1975',\n",
       "       'pmi_1976_1980', 'pmi_1981_1985', 'pmi_1986_1990', 'pmi_1991_1995',\n",
       "       'pmi_1996_2000', 'pmi_2001_2005', 'pmi_2006_2010', 'pmi_2011_2012',\n",
       "       'pmi_2013_2015'],\n",
       "      dtype='object')"
      ]
     },
     "execution_count": 186,
     "metadata": {},
     "output_type": "execute_result"
    }
   ],
   "source": [
    "fl.columns"
   ]
  },
  {
   "cell_type": "code",
   "execution_count": null,
   "metadata": {},
   "outputs": [],
   "source": []
  }
 ],
 "metadata": {
  "kernelspec": {
   "display_name": "Python 3",
   "language": "python",
   "name": "python3"
  },
  "language_info": {
   "codemirror_mode": {
    "name": "ipython",
    "version": 3
   },
   "file_extension": ".py",
   "mimetype": "text/x-python",
   "name": "python",
   "nbconvert_exporter": "python",
   "pygments_lexer": "ipython3",
   "version": "3.5.4"
  }
 },
 "nbformat": 4,
 "nbformat_minor": 2
}
